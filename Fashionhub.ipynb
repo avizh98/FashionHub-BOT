{
  "nbformat": 4,
  "nbformat_minor": 0,
  "metadata": {
    "colab": {
      "provenance": []
    },
    "kernelspec": {
      "name": "python3",
      "display_name": "Python 3"
    },
    "language_info": {
      "name": "python"
    }
  },
  "cells": [
    {
      "cell_type": "code",
      "execution_count": 1,
      "metadata": {
        "id": "FM-Mxys08yI9",
        "colab": {
          "base_uri": "https://localhost:8080/"
        },
        "outputId": "27fdcd43-aba9-4132-b715-a7e910d132e8"
      },
      "outputs": [
        {
          "output_type": "stream",
          "name": "stderr",
          "text": [
            "[nltk_data] Downloading package punkt to /root/nltk_data...\n",
            "[nltk_data]   Unzipping tokenizers/punkt.zip.\n"
          ]
        },
        {
          "output_type": "execute_result",
          "data": {
            "text/plain": [
              "True"
            ]
          },
          "metadata": {},
          "execution_count": 1
        }
      ],
      "source": [
        "import tensorflow as tf\n",
        "from tensorflow.keras.layers import Input, Embedding, Bidirectional, LSTM, GRU, Dense\n",
        "from tensorflow.keras.models import Model\n",
        "from tensorflow.keras.preprocessing.text import Tokenizer\n",
        "from tensorflow.keras.preprocessing.sequence import pad_sequences\n",
        "from tensorflow.keras.utils import to_categorical\n",
        "import numpy as np\n",
        "import pandas as pd\n",
        "import re\n",
        "from nltk.tokenize import word_tokenize\n",
        "import nltk\n",
        "nltk.download('punkt')"
      ]
    },
    {
      "cell_type": "code",
      "source": [
        "# Load the CSV dataset\n",
        "df = pd.read_csv('fashion_store.csv')\n",
        "\n",
        "# Check the column names (optional)\n",
        "print(df.columns)\n",
        "\n",
        "# Define a function to preprocess text\n",
        "def preprocess_text(text):\n",
        "    text = text.lower()\n",
        "    text = re.sub(r'\\n', ' ', text)\n",
        "    text = re.sub(r'\\s+', ' ', text)\n",
        "    text = text.strip()\n",
        "    return text\n",
        "\n",
        "# Apply preprocessing to 'question' and 'answer' columns\n",
        "df['Question'] = df['Question'].apply(preprocess_text)\n",
        "df['Answer'] = df['Answer'].apply(preprocess_text)\n",
        "\n",
        "# Create separate lists for questions and answers\n",
        "questions = df['Question'].tolist()\n",
        "answers = df['Answer'].tolist()\n"
      ],
      "metadata": {
        "id": "VllmN4Iy88kr",
        "colab": {
          "base_uri": "https://localhost:8080/"
        },
        "outputId": "3407534d-1e86-4cf7-b7e3-da5bdf6edb9b"
      },
      "execution_count": 2,
      "outputs": [
        {
          "output_type": "stream",
          "name": "stdout",
          "text": [
            "Index(['Question', 'Answer'], dtype='object')\n"
          ]
        }
      ]
    },
    {
      "cell_type": "code",
      "source": [
        "\n"
      ],
      "metadata": {
        "id": "ifpAK-Fo9Lar"
      },
      "execution_count": 2,
      "outputs": []
    },
    {
      "cell_type": "code",
      "source": [
        "# Advanced Data Preprocessing\n",
        "tokenizer = Tokenizer(oov_token=\"<OOV>\")\n",
        "tokenizer.fit_on_texts(questions)  # Use 'questions' instead of 'dataset'\n",
        "vocab_size = len(tokenizer.word_index) + 1\n",
        "\n",
        "sequences = tokenizer.texts_to_sequences(questions)  # Use 'questions' here\n",
        "input_sequences = [sequence[:-1] for sequence in sequences]\n",
        "target_sequences = [sequence[1:] for sequence in sequences]\n",
        "\n",
        "max_sequence_length = max(len(sequence) for sequence in input_sequences)\n",
        "input_sequences = pad_sequences(input_sequences, maxlen=max_sequence_length, padding='post')\n",
        "target_sequences = pad_sequences(target_sequences, maxlen=max_sequence_length, padding='post')\n"
      ],
      "metadata": {
        "id": "CDC-ymo39MZt"
      },
      "execution_count": 3,
      "outputs": []
    },
    {
      "cell_type": "code",
      "source": [
        "# Advanced Data Preprocessing\n",
        "tokenizer = Tokenizer(oov_token=\"<OOV>\")\n",
        "tokenizer.fit_on_texts(answers)  # Use 'answers' instead of 'dataset'\n",
        "vocab_size = len(tokenizer.word_index) + 1  # Make sure vocab_size is the same\n",
        "\n",
        "sequences = tokenizer.texts_to_sequences(answers)  # Use 'answers' here\n",
        "input_sequences = [sequence[:-1] for sequence in sequences]\n",
        "target_sequences = [sequence[1:] for sequence in sequences]\n",
        "\n",
        "max_sequence_length = max(len(sequence) for sequence in input_sequences)\n",
        "input_sequences = pad_sequences(input_sequences, maxlen=max_sequence_length, padding='post')\n",
        "target_sequences = pad_sequences(target_sequences, maxlen=max_sequence_length, padding='post')\n"
      ],
      "metadata": {
        "id": "7wK0xtBmyVdq"
      },
      "execution_count": 4,
      "outputs": []
    },
    {
      "cell_type": "code",
      "source": [
        "# Build the chatbot model with Bidirectional LSTM and GRU\n",
        "embedding_dim = 100\n",
        "hidden_units = 256\n",
        "\n",
        "input_layer = Input(shape=(max_sequence_length,))\n",
        "embedding_layer = Embedding(vocab_size, embedding_dim)(input_layer)\n",
        "bidirectional_lstm = Bidirectional(LSTM(units=hidden_units, return_sequences=True))(embedding_layer)\n",
        "gru_layer = GRU(units=hidden_units, return_sequences=True)(bidirectional_lstm)\n",
        "output_layer = Dense(vocab_size, activation='softmax')(gru_layer)\n",
        "\n",
        "model = Model(inputs=input_layer, outputs=output_layer)\n",
        "model.compile(loss='categorical_crossentropy', optimizer='adam',metrics=['accuracy'])"
      ],
      "metadata": {
        "id": "QxKUBrtwARcE"
      },
      "execution_count": 5,
      "outputs": []
    },
    {
      "cell_type": "code",
      "source": [
        "# Define a function to preprocess new input text\n",
        "def preprocess_input_text(input_text):\n",
        "    encoded_input = tokenizer.texts_to_sequences([input_text])[0]\n",
        "    padded_input = pad_sequences([encoded_input], maxlen=max_sequence_length, padding='post')\n",
        "    return padded_input"
      ],
      "metadata": {
        "id": "AdOymQ4vzL8R"
      },
      "execution_count": 6,
      "outputs": []
    },
    {
      "cell_type": "code",
      "source": [
        "# Convert target_sequences to one-hot encoded format\n",
        "target_sequences_one_hot = to_categorical(target_sequences, num_classes=vocab_size)\n"
      ],
      "metadata": {
        "id": "moO4ehakAw3I"
      },
      "execution_count": 7,
      "outputs": []
    },
    {
      "cell_type": "code",
      "source": [
        "\n",
        "# Training the model (replace with your training data and hyperparameters)\n",
        "num_epochs = 10\n",
        "batch_size = 64\n",
        "\n",
        "# Collect model training history for accuracy\n",
        "history = model.fit(input_sequences, target_sequences_one_hot, epochs=num_epochs, batch_size=batch_size, validation_split=0.2)\n",
        "\n"
      ],
      "metadata": {
        "colab": {
          "base_uri": "https://localhost:8080/"
        },
        "id": "pwuUaZu_zTJh",
        "outputId": "54b4ec3c-6422-46a1-b7c0-bcdbc8d5074a"
      },
      "execution_count": 8,
      "outputs": [
        {
          "output_type": "stream",
          "name": "stdout",
          "text": [
            "Epoch 1/10\n",
            "13/13 [==============================] - 9s 362ms/step - loss: 4.5144 - accuracy: 0.4087 - val_loss: 3.3148 - val_accuracy: 0.4418\n",
            "Epoch 2/10\n",
            "13/13 [==============================] - 4s 289ms/step - loss: 3.2347 - accuracy: 0.4418 - val_loss: 3.1439 - val_accuracy: 0.4427\n",
            "Epoch 3/10\n",
            "13/13 [==============================] - 4s 338ms/step - loss: 3.1092 - accuracy: 0.4419 - val_loss: 3.0720 - val_accuracy: 0.4418\n",
            "Epoch 4/10\n",
            "13/13 [==============================] - 4s 289ms/step - loss: 3.0549 - accuracy: 0.4419 - val_loss: 3.0279 - val_accuracy: 0.4436\n",
            "Epoch 5/10\n",
            "13/13 [==============================] - 4s 292ms/step - loss: 3.0025 - accuracy: 0.4464 - val_loss: 2.9488 - val_accuracy: 0.4591\n",
            "Epoch 6/10\n",
            "13/13 [==============================] - 4s 339ms/step - loss: 2.8885 - accuracy: 0.4675 - val_loss: 2.7959 - val_accuracy: 0.4755\n",
            "Epoch 7/10\n",
            "13/13 [==============================] - 4s 333ms/step - loss: 2.7393 - accuracy: 0.4773 - val_loss: 2.6544 - val_accuracy: 0.4727\n",
            "Epoch 8/10\n",
            "13/13 [==============================] - 4s 290ms/step - loss: 2.6194 - accuracy: 0.4805 - val_loss: 2.5389 - val_accuracy: 0.4855\n",
            "Epoch 9/10\n",
            "13/13 [==============================] - 4s 329ms/step - loss: 2.4984 - accuracy: 0.4888 - val_loss: 2.4062 - val_accuracy: 0.4955\n",
            "Epoch 10/10\n",
            "13/13 [==============================] - 4s 287ms/step - loss: 2.3922 - accuracy: 0.4911 - val_loss: 2.3203 - val_accuracy: 0.4927\n"
          ]
        }
      ]
    },
    {
      "cell_type": "code",
      "source": [
        "import matplotlib.pyplot as plt  # Add this import for plotting\n",
        "\n",
        "# Plot training accuracy\n",
        "plt.plot(history.history['accuracy'], label='Training Accuracy')\n",
        "plt.plot(history.history['loss'], label='Training set loss')\n",
        "plt.xlabel('epoch')\n",
        "plt.ylabel('Accuracy')\n",
        "plt.legend()\n",
        "plt.title('Model Accuracy Over Training')\n",
        "plt.show()"
      ],
      "metadata": {
        "colab": {
          "base_uri": "https://localhost:8080/",
          "height": 472
        },
        "id": "GgDDZ_k32Iii",
        "outputId": "b7989d72-7f4a-40a5-b711-708604ddd3eb"
      },
      "execution_count": 9,
      "outputs": [
        {
          "output_type": "display_data",
          "data": {
            "text/plain": [
              "<Figure size 640x480 with 1 Axes>"
            ],
            "image/png": "[encoded data removed]"
          },
          "metadata": {}
        }
      ]
    },
    {
      "cell_type": "code",
      "source": [
        "# Define a function to preprocess new input text\n",
        "def preprocess_input_text(input_text):\n",
        "    encoded_input = tokenizer.texts_to_sequences([input_text])[0]\n",
        "    padded_input = pad_sequences([encoded_input], maxlen=max_sequence_length, padding='post')\n",
        "    return padded_input"
      ],
      "metadata": {
        "id": "oGuc6sHZA0Pr"
      },
      "execution_count": 10,
      "outputs": []
    },
    {
      "cell_type": "code",
      "source": [
        "def generate_text_nucleus_sampling(seed_text, num_words, temperature=1.0, top_p=0.9):\n",
        "    generated_text = seed_text\n",
        "    for _ in range(num_words):\n",
        "        encoded_seed = tokenizer.texts_to_sequences([seed_text])[0]\n",
        "        padded_seed = pad_sequences([encoded_seed], maxlen=max_sequence_length, padding='post')\n",
        "        predicted_probs = model.predict(padded_seed)[0]\n",
        "\n",
        "        # Apply nucleus sampling\n",
        "        sorted_indices = np.argsort(predicted_probs)[-1::-1]\n",
        "        cumulative_probs = np.cumsum(predicted_probs[sorted_indices])\n",
        "        cumulative_probs_threshold = cumulative_probs[int(0.9 * len(cumulative_probs))]\n",
        "        selected_indices = sorted_indices[cumulative_probs <= cumulative_probs_threshold]\n",
        "\n",
        "        if len(selected_indices) == 0:\n",
        "            break  # To prevent an infinite loop if top_p is too small\n",
        "\n",
        "        # Randomly select from the remaining candidates based on the temperature\n",
        "        probabilities = predicted_probs[selected_indices] / temperature\n",
        "        probabilities = probabilities / np.sum(probabilities)\n",
        "        predicted_word_index = np.random.choice(selected_indices, p=probabilities)\n",
        "\n",
        "        predicted_word = tokenizer.index_word[predicted_word_index]\n",
        "        generated_text += \" \" + predicted_word\n",
        "        seed_text = generated_text\n",
        "\n",
        "    return generated_text\n",
        "\n",
        "\n",
        "# Generate chatbot responses using nucleus sampling\n",
        "seed_text = \"Hello, how are you?\"\n",
        "num_words = 20\n",
        "nucleus_response = generate_text_nucleus_sampling(seed_text, num_words, temperature=1, top_p=0.9)\n",
        "print(\"Nucleus Sampling:\", nucleus_response)\n"
      ],
      "metadata": {
        "id": "m5w-yXZUBb6T",
        "colab": {
          "base_uri": "https://localhost:8080/",
          "height": 366
        },
        "outputId": "89af3c71-fcca-4934-8a20-abd6e98a68ca"
      },
      "execution_count": 11,
      "outputs": [
        {
          "output_type": "stream",
          "name": "stdout",
          "text": [
            "1/1 [==============================] - 1s 795ms/step\n"
          ]
        },
        {
          "output_type": "error",
          "ename": "IndexError",
          "evalue": "ignored",
          "traceback": [
            "\u001b[0;31m---------------------------------------------------------------------------\u001b[0m",
            "\u001b[0;31mIndexError\u001b[0m                                Traceback (most recent call last)",
            "\u001b[0;32m<ipython-input-11-c01abf3f83dd>\u001b[0m in \u001b[0;36m<cell line: 32>\u001b[0;34m()\u001b[0m\n\u001b[1;32m     30\u001b[0m \u001b[0mseed_text\u001b[0m \u001b[0;34m=\u001b[0m \u001b[0;34m\"Hello, how are you?\"\u001b[0m\u001b[0;34m\u001b[0m\u001b[0;34m\u001b[0m\u001b[0m\n\u001b[1;32m     31\u001b[0m \u001b[0mnum_words\u001b[0m \u001b[0;34m=\u001b[0m \u001b[0;36m20\u001b[0m\u001b[0;34m\u001b[0m\u001b[0;34m\u001b[0m\u001b[0m\n\u001b[0;32m---> 32\u001b[0;31m \u001b[0mnucleus_response\u001b[0m \u001b[0;34m=\u001b[0m \u001b[0mgenerate_text_nucleus_sampling\u001b[0m\u001b[0;34m(\u001b[0m\u001b[0mseed_text\u001b[0m\u001b[0;34m,\u001b[0m \u001b[0mnum_words\u001b[0m\u001b[0;34m,\u001b[0m \u001b[0mtemperature\u001b[0m\u001b[0;34m=\u001b[0m\u001b[0;36m1\u001b[0m\u001b[0;34m,\u001b[0m \u001b[0mtop_p\u001b[0m\u001b[0;34m=\u001b[0m\u001b[0;36m0.9\u001b[0m\u001b[0;34m)\u001b[0m\u001b[0;34m\u001b[0m\u001b[0;34m\u001b[0m\u001b[0m\n\u001b[0m\u001b[1;32m     33\u001b[0m \u001b[0mprint\u001b[0m\u001b[0;34m(\u001b[0m\u001b[0;34m\"Nucleus Sampling:\"\u001b[0m\u001b[0;34m,\u001b[0m \u001b[0mnucleus_response\u001b[0m\u001b[0;34m)\u001b[0m\u001b[0;34m\u001b[0m\u001b[0;34m\u001b[0m\u001b[0m\n",
            "\u001b[0;32m<ipython-input-11-c01abf3f83dd>\u001b[0m in \u001b[0;36mgenerate_text_nucleus_sampling\u001b[0;34m(seed_text, num_words, temperature, top_p)\u001b[0m\n\u001b[1;32m      8\u001b[0m         \u001b[0;31m# Apply nucleus sampling\u001b[0m\u001b[0;34m\u001b[0m\u001b[0;34m\u001b[0m\u001b[0m\n\u001b[1;32m      9\u001b[0m         \u001b[0msorted_indices\u001b[0m \u001b[0;34m=\u001b[0m \u001b[0mnp\u001b[0m\u001b[0;34m.\u001b[0m\u001b[0margsort\u001b[0m\u001b[0;34m(\u001b[0m\u001b[0mpredicted_probs\u001b[0m\u001b[0;34m)\u001b[0m\u001b[0;34m[\u001b[0m\u001b[0;34m-\u001b[0m\u001b[0;36m1\u001b[0m\u001b[0;34m:\u001b[0m\u001b[0;34m:\u001b[0m\u001b[0;34m-\u001b[0m\u001b[0;36m1\u001b[0m\u001b[0;34m]\u001b[0m\u001b[0;34m\u001b[0m\u001b[0;34m\u001b[0m\u001b[0m\n\u001b[0;32m---> 10\u001b[0;31m         \u001b[0mcumulative_probs\u001b[0m \u001b[0;34m=\u001b[0m \u001b[0mnp\u001b[0m\u001b[0;34m.\u001b[0m\u001b[0mcumsum\u001b[0m\u001b[0;34m(\u001b[0m\u001b[0mpredicted_probs\u001b[0m\u001b[0;34m[\u001b[0m\u001b[0msorted_indices\u001b[0m\u001b[0;34m]\u001b[0m\u001b[0;34m)\u001b[0m\u001b[0;34m\u001b[0m\u001b[0;34m\u001b[0m\u001b[0m\n\u001b[0m\u001b[1;32m     11\u001b[0m         \u001b[0mcumulative_probs_threshold\u001b[0m \u001b[0;34m=\u001b[0m \u001b[0mcumulative_probs\u001b[0m\u001b[0;34m[\u001b[0m\u001b[0mint\u001b[0m\u001b[0;34m(\u001b[0m\u001b[0;36m0.9\u001b[0m \u001b[0;34m*\u001b[0m \u001b[0mlen\u001b[0m\u001b[0;34m(\u001b[0m\u001b[0mcumulative_probs\u001b[0m\u001b[0;34m)\u001b[0m\u001b[0;34m)\u001b[0m\u001b[0;34m]\u001b[0m\u001b[0;34m\u001b[0m\u001b[0;34m\u001b[0m\u001b[0m\n\u001b[1;32m     12\u001b[0m         \u001b[0mselected_indices\u001b[0m \u001b[0;34m=\u001b[0m \u001b[0msorted_indices\u001b[0m\u001b[0;34m[\u001b[0m\u001b[0mcumulative_probs\u001b[0m \u001b[0;34m<=\u001b[0m \u001b[0mcumulative_probs_threshold\u001b[0m\u001b[0;34m]\u001b[0m\u001b[0;34m\u001b[0m\u001b[0;34m\u001b[0m\u001b[0m\n",
            "\u001b[0;31mIndexError\u001b[0m: index 279 is out of bounds for axis 0 with size 22"
          ]
        }
      ]
    }
  ]
}